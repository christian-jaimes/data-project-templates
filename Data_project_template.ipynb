{
  "nbformat": 4,
  "nbformat_minor": 0,
  "metadata": {
    "colab": {
      "provenance": [],
      "authorship_tag": "ABX9TyO+chS0TWXEcBcuvsSjNGue"
    },
    "kernelspec": {
      "name": "python3",
      "display_name": "Python 3"
    },
    "language_info": {
      "name": "python"
    }
  },
  "cells": [
    {
      "cell_type": "code",
      "source": [
        "######################################################################################################################################################\n",
        "################################################################    Control Panel    #################################################################\n",
        "project_name = 'project name'\n",
        "file_name = f'{project_name}'\n",
        "\n",
        "######    Functions   ######\n",
        "# Full dataset\n",
        "save_dataset_to_csv = True\n",
        "save_dataset_to_json = True\n",
        "save_dataset_to_gsheet = False\n",
        "\n",
        "# Error log\n",
        "save_error_log = True\n",
        "\n",
        "################################################################    Control Panel    #################################################################\n",
        "######################################################################################################################################################"
      ],
      "metadata": {
        "id": "sDdkWWcB4fVT"
      },
      "execution_count": 23,
      "outputs": []
    },
    {
      "cell_type": "code",
      "execution_count": 28,
      "metadata": {
        "id": "nkSwUCXcvJzF"
      },
      "outputs": [],
      "source": [
        "import os\n",
        "import time\n",
        "import pandas as pd\n",
        "import gspread\n",
        "from google.colab import auth\n",
        "from google.auth import default\n",
        "from gspread_dataframe import set_with_dataframe, get_as_dataframe"
      ]
    },
    {
      "cell_type": "code",
      "source": [
        "# Authenticator to be able to access google drive\n",
        "auth.authenticate_user()\n",
        "creds,_ = default()\n",
        "gc = gspread.authorize(creds)"
      ],
      "metadata": {
        "id": "-9iNwNvH9ibK"
      },
      "execution_count": 26,
      "outputs": []
    },
    {
      "cell_type": "code",
      "source": [
        "# Calling the google spreadsheet to get the Trailhead list.\n",
        "tracker_file = gc.open('G Drive sheet name').worksheet('sheet_name') # Open a specific gsheet\n",
        "tracker_data = tracker_file.get_all_records() # Get all records from the the gsheet\n",
        "tracker_df = pd.DataFrame(tracker_data) # Make dataframe from gsheet"
      ],
      "metadata": {
        "id": "5ykrjHhY_irB"
      },
      "execution_count": null,
      "outputs": []
    },
    {
      "cell_type": "code",
      "source": [
        "###################################################################    Metadata    ###################################################################53\n",
        "# Times calculated to have control log of the script\n",
        "script_start_time = time.time()\n",
        "script_start_timestamp = time.strftime(\"%Y-%m-%d %H:%M:%S\", time.localtime())\n",
        "print(\"=\"*12,f\"Project {project_name} | Script started {script_start_timestamp}\",\"=\"*12)"
      ],
      "metadata": {
        "id": "DAq2kMxb4qZH"
      },
      "execution_count": null,
      "outputs": []
    },
    {
      "cell_type": "code",
      "source": [
        "####################################################################    Datasets    ###################################################################53\n",
        "sample_dataset = pd.DataFrame()\n",
        "error_log = []"
      ],
      "metadata": {
        "id": "viOrQvIX5MFz"
      },
      "execution_count": 8,
      "outputs": []
    },
    {
      "cell_type": "code",
      "source": [
        "####################################################################    Functions    ###################################################################\n",
        "def df_size(dataframe_name):\n",
        "    \"\"\"Calculates and formats the size of a dataframe (rows, columns).\"\"\"\n",
        "    rows = dataframe_name.shape[0]\n",
        "    columns = dataframe_name.shape[1]\n",
        "    return f'{rows} rows, {columns} columns.'\n"
      ],
      "metadata": {
        "id": "PtLxqMoP5TCY"
      },
      "execution_count": 9,
      "outputs": []
    },
    {
      "cell_type": "code",
      "source": [
        "#<==================================================================       Code        ==================================================================>\n",
        "\n",
        "#legend print for loops with error handeling.\n",
        "#print(f'<loop> extraction finished    |    {len(set(extracted_list))} successful extractions.    |    {len(set(failed_list))} failed extractions.    |    dataset size: {df_size(sample_dataset)}')"
      ],
      "metadata": {
        "id": "Y5Wr4iyC5XP8"
      },
      "execution_count": 10,
      "outputs": []
    },
    {
      "cell_type": "code",
      "source": [
        "########################################################    Output the data to CSV files    ##########################################################\n",
        "error_log = pd.DataFrame(error_log)\n",
        "\n",
        "if save_dataset_to_csv:\n",
        "  #  Output the full dataset into a csv file\n",
        "  sample_dataset.to_csv(f'{file_name}.csv', header=True, index=False)\n",
        "\n",
        "if save_dataset_to_csv:\n",
        "  print(f\"CSV file saved to {file_name}\")\n",
        "  if save_error_log:\n",
        "    error_log.to_csv(f'{file_name} - error log.csv', header=True, index=False)"
      ],
      "metadata": {
        "id": "DuHTnNPt5gf3"
      },
      "execution_count": null,
      "outputs": []
    },
    {
      "cell_type": "code",
      "source": [
        "########################################################    Output the data to a google spreasheet in google drive files    ##########################################################\n",
        "if save_dataset_to_gsheet: # this not only save data but appends it everytime the script runs\n",
        "  output_file = gc.open('Gsheet name').worksheet('sheet_name')\n",
        "  output_data = output_file.get('A:A')\n",
        "  output_df = pd.DataFrame(output_data)\n",
        "  output_qty = len(output_df)+1\n",
        "  if output_qty -1 == 0:\n",
        "    set_with_dataframe(output_file,sample_dataset, row = output_qty, include_column_header = True)\n",
        "  else:\n",
        "    set_with_dataframe(output_file,sample_dataset, row = output_qty, include_column_header = False)"
      ],
      "metadata": {
        "id": "FVtzyYfG_YIa"
      },
      "execution_count": null,
      "outputs": []
    },
    {
      "cell_type": "code",
      "source": [
        "########################################################    Output the data to JSON files    ########################################################\n",
        "if save_dataset_to_json:\n",
        "    #  Output the full dataset into a csv file\n",
        "    sample_dataset.to_json(f'{file_name}.json', orient='records', lines=True)\n",
        "\n",
        "if save_dataset_to_json:\n",
        "    print(f\"JSON file saved to {file_name}\")\n",
        "    if save_error_log:\n",
        "        error_log.to_json(f'{file_name} - error log.json', orient='records', lines=True)\n"
      ],
      "metadata": {
        "id": "fLUcA_5_537v"
      },
      "execution_count": null,
      "outputs": []
    },
    {
      "cell_type": "code",
      "source": [
        "###################################################################    Metadata    ###################################################################\n",
        "# Record the end time to calculate and format the elapsed time\n",
        "script_end_time = time.time()\n",
        "script_end_timestamp = time.strftime(\"%Y-%m-%d %H:%M:%S\", time.localtime())\n",
        "script_elapsed_time = time.strftime(\"%H:%M:%S\", time.gmtime(script_end_time - script_start_time))\n",
        "\n",
        "# Time check\n",
        "print(\"=\"*10,f\"{sample_dataset.shape[0]} rows, {sample_dataset.shape[1]} columns in {script_elapsed_time} | Script ended on {script_end_timestamp}\",\"=\"*10,\"\\n\")"
      ],
      "metadata": {
        "id": "bKoZ5e3O57Hv"
      },
      "execution_count": null,
      "outputs": []
    },
    {
      "cell_type": "code",
      "source": [
        "print('='*120)\n",
        "print(f'Script finished    |    {sample_dataset.shape[0]}  successful.    |    {sample_dataset.shape[0]}  failed.    |    elapsed time: {script_elapsed_time}')\n",
        "print('='*120)"
      ],
      "metadata": {
        "id": "rhs2I4WW_dMP"
      },
      "execution_count": null,
      "outputs": []
    }
  ]
}